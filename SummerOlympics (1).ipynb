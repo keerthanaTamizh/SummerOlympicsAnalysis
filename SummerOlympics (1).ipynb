{
  "nbformat": 4,
  "nbformat_minor": 0,
  "metadata": {
    "colab": {
      "name": "SummerOlympics.ipynb",
      "provenance": [],
      "collapsed_sections": []
    },
    "kernelspec": {
      "display_name": "Python 3",
      "name": "python3"
    },
    "language_info": {
      "name": "python"
    }
  },
  "cells": [
    {
      "cell_type": "code",
      "metadata": {
        "id": "-cD-OHgqLWVW"
      },
      "source": [
        "import pandas as pd\n",
        "import matplotlib.pyplot as plt \n",
        "dataset = pd.read_csv('summer.csv')\n",
        "print(dataset)"
      ],
      "execution_count": null,
      "outputs": []
    },
    {
      "cell_type": "markdown",
      "metadata": {
        "id": "0vguDKn-apy7"
      },
      "source": [
        "1. In how many cities Summer Olympics is held so far?"
      ]
    },
    {
      "cell_type": "code",
      "metadata": {
        "id": "hkGJihKHZ19_"
      },
      "source": [
        "a=[]\n",
        "a=dataset['City'].unique()\n",
        "print(len(a))\n",
        "\n"
      ],
      "execution_count": null,
      "outputs": []
    },
    {
      "cell_type": "markdown",
      "metadata": {
        "id": "62CnDwsjc8Lo"
      },
      "source": [
        "2.Which sport is having most number of Gold Medals so far? (Top 5)"
      ]
    },
    {
      "cell_type": "code",
      "metadata": {
        "id": "2F-ZL8GNdJRf"
      },
      "source": [
        "b=[]\n",
        "b=dataset['Sport'].unique()\n",
        "d={}\n",
        "for i in range(len(b)):\n",
        "  c=[]\n",
        "  c=dataset[(dataset['Sport']==b[i])&(dataset['Medal']=='Gold')]\n",
        "  d[b[i]]=len(c)\n",
        "keymax=max(zip(d.values(),d.keys()))[1]\n",
        "medal_arr= sorted(d.items(), key=lambda x: x[1], reverse=True)\n",
        "ff_keys=[medal_arr[0][0],medal_arr[1][0],medal_arr[2][0],medal_arr[3][0],medal_arr[4][0]]\n",
        "ff_values=[medal_arr[0][1],medal_arr[1][1],medal_arr[2][1],medal_arr[3][1],medal_arr[4][1]]\n",
        "id=pd.DataFrame(medal_arr,columns=['sports','TotalGoldMedal'])\n",
        "print(id.head())\n",
        "print()\n",
        "plt.bar(ff_keys,ff_values,align='center')\n",
        "plt.xlabel('Sports Name')\n",
        "plt.ylabel('count.of.medals')\n",
        "plt.title('Bar chart of top 5 sports having most no.of golds')\n",
        "print(\"Thus sport which has most gold medal is :\",medal_arr[0][0])\n",
        "print()"
      ],
      "execution_count": null,
      "outputs": []
    },
    {
      "cell_type": "markdown",
      "metadata": {
        "id": "DBvME9eODbrR"
      },
      "source": [
        "3. Which sport is having most number of medals so far? "
      ]
    },
    {
      "cell_type": "code",
      "metadata": {
        "id": "q0QULPCWDtnX"
      },
      "source": [
        "k={}\n",
        "for i in range(len(b)):\n",
        "  l=[]\n",
        "  l=dataset[(dataset['Sport']==b[i])&(dataset['Medal'])]\n",
        "  k[b[i]]=len(l)\n",
        "total_me= sorted(k.items(), key=lambda x: x[1], reverse=True)\n",
        "ffm_keys=[total_me[0][0],total_me[1][0],total_me[2][0],total_me[3][0],total_me[4][0]]\n",
        "ffm_values=[total_me[0][1],total_me[1][1],total_me[2][1],total_me[3][1],total_me[4][1]]\n",
        "td=pd.DataFrame(total_me,columns=['sports','Totalmedals'])\n",
        "print(td.head())\n",
        "print()\n",
        "plt.bar(ffm_keys,ffm_values,align='center',color='green')\n",
        "plt.xlabel('Sports Name')\n",
        "plt.ylabel('count.of.Totalmedals')\n",
        "plt.title('Bar chart of top 5 sports having most no.of medals')\n",
        "print(\"Thus sport which has most medals is :\",total_me[0][0])\n",
        "print()\n"
      ],
      "execution_count": null,
      "outputs": []
    },
    {
      "cell_type": "markdown",
      "metadata": {
        "id": "RQTgXMS8dbFz"
      },
      "source": [
        "4.Which player has won most number of medals? (Top 5)"
      ]
    },
    {
      "cell_type": "code",
      "metadata": {
        "id": "-pmbegLgXSGi"
      },
      "source": [
        "f=[]\n",
        "f=dataset['Athlete'].unique()\n",
        "At={}\n",
        "for i in range(len(f)):\n",
        "  j=[]\n",
        "  j=dataset[dataset['Athlete']==f[i]]\n",
        "  At[f[i]]=len(j)\n",
        "Ath_me= sorted(At.items(), key=lambda x: x[1], reverse=True)\n",
        "ffa_keys=[Ath_me[0][0],Ath_me[1][0],Ath_me[2][0],Ath_me[3][0],Ath_me[4][0]]\n",
        "ffa_values=[Ath_me[0][1],Ath_me[1][1],Ath_me[2][1],Ath_me[3][1],Ath_me[4][1]]\n",
        "xd=pd.DataFrame(Ath_me,columns=['Athelets','TotalMedals'])\n",
        "print(xd.head())\n",
        "print()\n",
        "plt.bar(ffa_keys,ffa_values,align='center',color='red')\n",
        "plt.xticks(ffa_keys, rotation=45,fontsize='10', horizontalalignment='right')\n",
        "plt.xlabel('Athlete Names')\n",
        "plt.ylabel('count.of.Totalmedals')\n",
        "plt.title('Bar chart of top 5 Athlete having most no.of medals')\n",
        "print(\"Thus Athelete who have more medals is :\",Ath_me[0][0])\n",
        "print()"
      ],
      "execution_count": null,
      "outputs": []
    },
    {
      "cell_type": "markdown",
      "metadata": {
        "id": "6G2r4FPBBZnW"
      },
      "source": [
        "5. Which player has won most number Gold Medals of medals? (Top 5)"
      ]
    },
    {
      "cell_type": "code",
      "metadata": {
        "id": "3_teD2O7Bb-o"
      },
      "source": [
        "Atg={}\n",
        "for i in range(len(f)):\n",
        "  j=[]\n",
        "  j=dataset[(dataset['Athlete']==f[i])&(dataset['Medal']=='Gold')]\n",
        "  Atg[f[i]]=len(j)\n",
        "Athg_me= sorted(Atg.items(),key=lambda x: x[1], reverse=True)\n",
        "ffag_keys=[Athg_me[0][0],Athg_me[1][0],Athg_me[2][0],Athg_me[3][0],Athg_me[4][0]]\n",
        "ffag_values=[Athg_me[0][1],Athg_me[1][1],Athg_me[2][1],Athg_me[3][1],Athg_me[4][1]]\n",
        "md=pd.DataFrame(Athg_me,columns=['Athelets','TotalGoldMedalist'])\n",
        "print(md.head())\n",
        "print()\n",
        "plt.bar(ffag_keys,ffag_values,align='center',color='yellow')\n",
        "plt.xticks(ffag_keys, rotation=45,fontsize='10', horizontalalignment='right')\n",
        "plt.xlabel('Athlete Names')\n",
        "plt.ylabel('count.of.TotalGoldmedals')\n",
        "plt.title('Bar chart of top 5 Athlete having most no.of.GoldMedals')\n",
        "print(\"Thus Athelete who have more gold medals is :\",Athg_me[0][0])\n",
        "print()"
      ],
      "execution_count": null,
      "outputs": []
    },
    {
      "cell_type": "markdown",
      "metadata": {
        "id": "Gmn9fMtsLG_2"
      },
      "source": [
        "6. In which year India won first Gold Medal in Summer Olympics?"
      ]
    },
    {
      "cell_type": "code",
      "metadata": {
        "colab": {
          "base_uri": "https://localhost:8080/"
        },
        "id": "4jmNtjTFLLJe",
        "outputId": "b553c715-9c5b-4d51-c3ae-bdf2502d08a8"
      },
      "source": [
        "y=[]\n",
        "y=dataset[(dataset['Country']=='IND')&(dataset['Medal']=='Gold')]\n",
        "print(min(y['Year']))"
      ],
      "execution_count": 59,
      "outputs": [
        {
          "output_type": "stream",
          "name": "stdout",
          "text": [
            "1928\n"
          ]
        }
      ]
    },
    {
      "cell_type": "markdown",
      "metadata": {
        "id": "isTV2YKKNxzL"
      },
      "source": [
        "7. Which event is most popular in terms on number of players? (Top 5)"
      ]
    },
    {
      "cell_type": "code",
      "metadata": {
        "id": "O4y4P1wbN2_8"
      },
      "source": [
        "z=[]\n",
        "z=dataset['Event'].unique()\n",
        "ev={}\n",
        "for i in range(len(z)):\n",
        "  s=[]\n",
        "  s=dataset[(dataset['Event']==z[i])]\n",
        "  ev[z[i]]=len(s)\n",
        "eve_ply=sorted(ev.items(),key=lambda x: x[1], reverse=True)\n",
        "ffep_keys=[eve_ply[0][0],eve_ply[1][0],eve_ply[2][0],eve_ply[3][0],eve_ply[4][0]]\n",
        "ffep_values=[eve_ply[0][1],eve_ply[1][1],eve_ply[2][1],eve_ply[3][1],eve_ply[4][1]]\n",
        "kd=pd.DataFrame(eve_ply,columns=['Events','PlayersCount'])\n",
        "print(kd.head())\n",
        "print()\n",
        "plt.bar(ffep_keys,ffep_values,align='center',color='violet')\n",
        "plt.xticks(ffep_keys, rotation=45,fontsize='10', horizontalalignment='right')\n",
        "plt.xlabel('Event Names')\n",
        "plt.ylabel('count.of.Players')\n",
        "plt.title('Bar chart of top 5 event is popular in terms on number of players')\n",
        "print(\"Thus event polular in terms of player is :\",eve_ply[0][0])\n",
        "print()"
      ],
      "execution_count": null,
      "outputs": []
    },
    {
      "cell_type": "markdown",
      "metadata": {
        "id": "Ng1RGD1iSM3z"
      },
      "source": [
        "8. Which sport is having most female Gold Medalists? (Top 5)"
      ]
    },
    {
      "cell_type": "code",
      "metadata": {
        "id": "32xTpBkJST8J"
      },
      "source": [
        "h=[]\n",
        "h=dataset['Sport'].unique()\n",
        "wg={}\n",
        "for i in range(len(h)):\n",
        "  u=[]\n",
        "  u=dataset[(dataset['Sport']==h[i])&(dataset['Gender']=='Women')&(dataset['Medal']=='Gold')]\n",
        "  wg[h[i]]=len(u)\n",
        "wgs=sorted(wg.items(),key=lambda x: x[1], reverse=True)\n",
        "ffwg_keys=[wgs[0][0],wgs[1][0],wgs[2][0],wgs[3][0],wgs[4][0]]\n",
        "ffwg_values=[wgs[0][1],wgs[1][1],wgs[2][1],wgs[3][1],wgs[4][1]]\n",
        "cd=pd.DataFrame(wgs,columns=['sports','WomenGoldMedalist'])\n",
        "print(cd.head())\n",
        "print()\n",
        "plt.bar(ffwg_keys,ffwg_values,align='center',color='indigo')\n",
        "plt.xticks(ffwg_keys, rotation=45,fontsize='10', horizontalalignment='right')\n",
        "plt.xlabel('Sport Names')\n",
        "plt.ylabel('count.of.womenGoldMedalist')\n",
        "plt.title('Bar chart of top 5 sports having most female Gold Medalists  ')\n",
        "print(\"Thus sport having most female Gold Medalist is :\",wgs[0][0])\n",
        "print()"
      ],
      "execution_count": null,
      "outputs": []
    }
  ]
}